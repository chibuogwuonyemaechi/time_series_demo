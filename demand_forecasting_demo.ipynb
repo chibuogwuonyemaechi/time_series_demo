{
 "cells": [
  {
   "cell_type": "markdown",
   "id": "b5876763",
   "metadata": {},
   "source": [
    "# Demand Forecasting Demo — ARIMA/Prophet vs LSTM/GRU\n",
    "Author: *Chibuogwu Onyemaechi*\n",
    "\n",
    "**Goal:** simple, interview-ready time-series forecasting demo (water/utility style) that compares a classical model (ARIMA/Prophet) with a small deep learning model (LSTM/GRU).\n",
    "\n",
    "Dataset: classic **AirPassengers** monthly series (embedded; no internet needed).\n",
    "You can swap in electricity/water demand easily by changing the loader.\n"
   ]
  },
  {
   "cell_type": "markdown",
   "id": "c1ef5c11",
   "metadata": {},
   "source": [
    "## 1) Setup"
   ]
  },
  {
   "cell_type": "code",
   "execution_count": 3,
   "id": "a1358a15",
   "metadata": {},
   "outputs": [
    {
     "name": "stdout",
     "output_type": "stream",
     "text": [
      "Saving figures to: C:\\Users\\ochib\\Downloads\\demand_forecasting\\outputs\n"
     ]
    }
   ],
   "source": [
    "\n",
    "# If running on Colab, uncomment to install what you need\n",
    "# !pip -q install numpy pandas matplotlib scikit-learn statsmodels pmdarima prophet tensorflow\n",
    "\n",
    "import warnings, os\n",
    "import numpy as np\n",
    "import pandas as pd\n",
    "import matplotlib.pyplot as plt\n",
    "from pathlib import Path\n",
    "\n",
    "warnings.filterwarnings(\"ignore\")\n",
    "plt.rcParams[\"figure.dpi\"] = 140\n",
    "\n",
    "OUT = Path(\"outputs\"); OUT.mkdir(exist_ok=True)\n",
    "print(\"Saving figures to:\", OUT.resolve())\n"
   ]
  },
  {
   "cell_type": "markdown",
   "id": "e754f490",
   "metadata": {},
   "source": [
    "## 2) Load a simple monthly series (AirPassengers)"
   ]
  },
  {
   "cell_type": "code",
   "execution_count": null,
   "id": "3c0d8d1f",
   "metadata": {},
   "outputs": [],
   "source": [
    "\n",
    "# Embedded AirPassengers (1949-1960), monthly\n",
    "values = [112, 118, 132, 129, 121, 135, 148, 148, 136, 119, 104, 118, 115, 126, 141, 135, 125, 149, 170, 170, 158, 133, 114, 140, 145, 150, 178, 163, 172, 178, 199, 199, 184, 162, 146, 166, 171, 180, 193, 181, 183, 218, 230, 242, 209, 191, 172, 194, 196, 196, 236, 235, 229, 243, 264, 272, 237, 211, 180, 201, 204, 188, 235, 227, 234, 264, 302, 293, 259, 229, 203, 229, 242, 233, 267, 269, 270, 315, 364, 347, 312, 274, 237, 278, 284, 277, 317, 313, 318, 374, 413, 405, 355, 306, 271, 306, 315, 301, 356, 348, 355, 422, 465, 467, 404, 347, 305, 336, 340, 318, 362, 348, 363, 435, 491, 505, 404, 359, 310, 337, 360, 342, 406, 396, 420, 472, 548, 559, 463, 407, 362, 405, 417, 391, 419, 461, 472, 535, 622, 606, 508, 461, 390, 432]\n",
    "\n",
    "# Build a monthly DateTimeIndex\n",
    "dates = pd.date_range(start=\"1949-01-01\", periods=len(values), freq=\"MS\")\n",
    "ts = pd.Series(values, index=dates, name=\"passengers\")\n",
    "\n",
    "ts.head(), ts.tail(), ts.plot(title=\"AirPassengers (monthly)\") ; plt.show()\n"
   ]
  },
  {
   "cell_type": "markdown",
   "id": "005e24c7",
   "metadata": {},
   "source": [
    "## 3) Train/Validation split"
   ]
  },
  {
   "cell_type": "code",
   "execution_count": null,
   "id": "bcbbeaa0",
   "metadata": {},
   "outputs": [],
   "source": [
    "\n",
    "# Use the last 24 months as validation\n",
    "HORIZON = 12         # forecast horizon we'll evaluate on\n",
    "VAL_LEN = 24\n",
    "\n",
    "train = ts.iloc[:-VAL_LEN]\n",
    "val   = ts.iloc[-VAL_LEN:]\n",
    "\n",
    "ax = train.plot(label=\"train\")\n",
    "val.plot(ax=ax, label=\"val\")\n",
    "plt.axvline(val.index[0], color=\"k\", ls=\"--\", alpha=0.6)\n",
    "plt.legend(); plt.title(\"Train / Validation split\"); plt.tight_layout()\n",
    "plt.savefig(OUT/\"split.png\", dpi=200); plt.show()\n",
    "\n",
    "print(\"Train:\", train.index.min(), \"→\", train.index.max(), \"| len:\", len(train))\n",
    "print(\"Val:  \", val.index.min(),   \"→\", val.index.max(),   \"| len:\", len(val))\n"
   ]
  },
  {
   "cell_type": "markdown",
   "id": "7830d04e",
   "metadata": {},
   "source": [
    "## 4) Classical: ARIMA (auto_arima)"
   ]
  },
  {
   "cell_type": "code",
   "execution_count": null,
   "id": "04176266",
   "metadata": {},
   "outputs": [],
   "source": [
    "\n",
    "try:\n",
    "    import pmdarima as pm\n",
    "    model = pm.auto_arima(train, seasonal=True, m=12, stepwise=True, trace=False, suppress_warnings=True)\n",
    "    print(model.summary())\n",
    "    # Forecast on validation span\n",
    "    fc = model.predict(n_periods=len(val))\n",
    "    fc = pd.Series(fc, index=val.index, name=\"ARIMA_forecast\")\n",
    "\n",
    "    ax = train.plot(label=\"train\", figsize=(8,4))\n",
    "    val.plot(ax=ax, label=\"val\")\n",
    "    fc.plot(ax=ax, label=\"ARIMA fc\", linestyle=\"--\")\n",
    "    plt.legend(); plt.title(\"ARIMA forecast vs validation\"); plt.tight_layout()\n",
    "    plt.savefig(OUT/\"arima_val.png\", dpi=200); plt.show()\n",
    "\n",
    "    def metrics(y_true, y_pred):\n",
    "        mae  = np.mean(np.abs(y_true - y_pred))\n",
    "        rmse = np.sqrt(np.mean((y_true - y_pred)**2))\n",
    "        mape = np.mean(np.abs((y_true - y_pred) / (y_true + 1e-8))) * 100\n",
    "        return mae, rmse, mape\n",
    "\n",
    "    mae, rmse, mape = metrics(val.values, fc.values)\n",
    "    print(f\"ARIMA val → MAE={mae:.2f} | RMSE={rmse:.2f} | MAPE={mape:.2f}%\")\n",
    "\n",
    "except Exception as e:\n",
    "    print(\"⚠️ ARIMA unavailable:\", e)\n",
    "    fc = None\n"
   ]
  },
  {
   "cell_type": "markdown",
   "id": "633d65ba",
   "metadata": {},
   "source": [
    "## 5) Prophet (optional)"
   ]
  },
  {
   "cell_type": "code",
   "execution_count": null,
   "id": "b0cf4b93",
   "metadata": {},
   "outputs": [],
   "source": [
    "\n",
    "try:\n",
    "    from prophet import Prophet\n",
    "    df = train.reset_index().rename(columns={\"index\":\"ds\",\"passengers\":\"y\"})\n",
    "    m = Prophet(seasonality_mode=\"multiplicative\", yearly_seasonality=True)\n",
    "    m.fit(df)\n",
    "    future = pd.DataFrame({\"ds\": val.index})\n",
    "    fc_prophet = m.predict(future)[[\"ds\",\"yhat\"]].set_index(\"ds\")[\"yhat\"]\n",
    "    fc_prophet.name = \"Prophet_forecast\"\n",
    "\n",
    "    ax = train.plot(label=\"train\", figsize=(8,4))\n",
    "    val.plot(ax=ax, label=\"val\")\n",
    "    fc_prophet.plot(ax=ax, label=\"Prophet fc\", linestyle=\"--\")\n",
    "    plt.legend(); plt.title(\"Prophet forecast vs validation\"); plt.tight_layout()\n",
    "    plt.savefig(OUT/\"prophet_val.png\", dpi=200); plt.show()\n",
    "\n",
    "    def metrics(y_true, y_pred):\n",
    "        mae  = np.mean(np.abs(y_true - y_pred))\n",
    "        rmse = np.sqrt(np.mean((y_true - y_pred)**2))\n",
    "        mape = np.mean(np.abs((y_true - y_pred) / (y_true + 1e-8))) * 100\n",
    "        return mae, rmse, mape\n",
    "\n",
    "    mae, rmse, mape = metrics(val.values, fc_prophet.values)\n",
    "    print(f\"Prophet val → MAE={mae:.2f} | RMSE={rmse:.2f} | MAPE={mape:.2f}%\")\n",
    "\n",
    "except Exception as e:\n",
    "    print(\"⚠️ Prophet unavailable:\", e)\n",
    "    fc_prophet = None\n"
   ]
  },
  {
   "cell_type": "markdown",
   "id": "4cc3077b",
   "metadata": {},
   "source": [
    "## 6) Deep Learning: small LSTM (TensorFlow)"
   ]
  },
  {
   "cell_type": "code",
   "execution_count": null,
   "id": "fb995010",
   "metadata": {},
   "outputs": [],
   "source": [
    "\n",
    "def make_supervised(series, window=12):\n",
    "    X, y = [], []\n",
    "    vals = series.values.astype(np.float32)\n",
    "    for i in range(len(vals) - window):\n",
    "        X.append(vals[i:i+window])\n",
    "        y.append(vals[i+window])\n",
    "    return np.array(X), np.array(y)\n",
    "\n",
    "try:\n",
    "    import tensorflow as tf\n",
    "    tf.get_logger().setLevel(\"ERROR\")\n",
    "    WINDOW = 12\n",
    "\n",
    "    X_tr, y_tr = make_supervised(train, window=WINDOW)\n",
    "    # Fit on train; validate on the next VAL_LEN points\n",
    "    # For fair comparison, only generate predictions on the val tail\n",
    "    # Build a simple LSTM\n",
    "    model = tf.keras.Sequential([\n",
    "        tf.keras.layers.Input(shape=(WINDOW,1)),\n",
    "        tf.keras.layers.LSTM(32),\n",
    "        tf.keras.layers.Dense(16, activation=\"relu\"),\n",
    "        tf.keras.layers.Dense(1)\n",
    "    ])\n",
    "    model.compile(optimizer=\"adam\", loss=\"mse\")\n",
    "    model.summary()\n",
    "\n",
    "    hist = model.fit(X_tr.reshape(-1, WINDOW, 1), y_tr, epochs=200, batch_size=16, verbose=0)\n",
    "\n",
    "    # Rolling forecast over validation window\n",
    "    history = train.values.astype(np.float32).tolist()\n",
    "    preds = []\n",
    "    for _ in range(len(val)):\n",
    "        x = np.array(history[-WINDOW:], dtype=np.float32).reshape(1, WINDOW, 1)\n",
    "        yhat = model.predict(x, verbose=0)[0][0]\n",
    "        preds.append(yhat)\n",
    "        history.append(val.iloc[len(preds)-1])  # teacher forcing with true val\n",
    "\n",
    "    fc_lstm = pd.Series(preds, index=val.index, name=\"LSTM_forecast\")\n",
    "\n",
    "    ax = train.plot(label=\"train\", figsize=(8,4))\n",
    "    val.plot(ax=ax, label=\"val\")\n",
    "    fc_lstm.plot(ax=ax, label=\"LSTM fc\", linestyle=\"--\")\n",
    "    plt.legend(); plt.title(\"LSTM forecast vs validation\"); plt.tight_layout()\n",
    "    plt.savefig(OUT/\"lstm_val.png\", dpi=200); plt.show()\n",
    "\n",
    "    def metrics(y_true, y_pred):\n",
    "        mae  = np.mean(np.abs(y_true - y_pred))\n",
    "        rmse = np.sqrt(np.mean((y_true - y_pred)**2))\n",
    "        mape = np.mean(np.abs((y_true - y_pred) / (y_true + 1e-8))) * 100\n",
    "        return mae, rmse, mape\n",
    "\n",
    "    mae, rmse, mape = metrics(val.values, fc_lstm.values)\n",
    "    print(f\"LSTM val → MAE={mae:.2f} | RMSE={rmse:.2f} | MAPE={mape:.2f}%\")\n",
    "\n",
    "except Exception as e:\n",
    "    print(\"⚠️ TensorFlow unavailable, skipping LSTM:\", e)\n",
    "    fc_lstm = None\n"
   ]
  },
  {
   "cell_type": "markdown",
   "id": "96bdb2e7",
   "metadata": {},
   "source": [
    "## 7) Compare forecasts (overlay) & quick summary"
   ]
  },
  {
   "cell_type": "code",
   "execution_count": null,
   "id": "e7b1b34c",
   "metadata": {},
   "outputs": [],
   "source": [
    "\n",
    "ax = train.plot(label=\"train\", figsize=(9,4))\n",
    "val.plot(ax=ax, label=\"val\", color=\"black\")\n",
    "if 'fc' in globals() and fc is not None:\n",
    "    fc.plot(ax=ax, label=\"ARIMA\", linestyle=\"--\")\n",
    "if 'fc_prophet' in globals() and fc_prophet is not None:\n",
    "    fc_prophet.plot(ax=ax, label=\"Prophet\", linestyle=\"--\")\n",
    "if 'fc_lstm' in globals() and fc_lstm is not None:\n",
    "    fc_lstm.plot(ax=ax, label=\"LSTM\", linestyle=\"--\")\n",
    "plt.legend(); plt.title(\"Validation overlay\"); plt.tight_layout()\n",
    "plt.savefig(OUT/\"overlay.png\", dpi=220); plt.show()\n",
    "\n",
    "print(\"Done. Check the 'outputs/' folder for saved figures.\")\n"
   ]
  }
 ],
 "metadata": {
  "kernelspec": {
   "display_name": "Python [conda env:timeseries]",
   "language": "python",
   "name": "conda-env-timeseries-py"
  },
  "language_info": {
   "codemirror_mode": {
    "name": "ipython",
    "version": 3
   },
   "file_extension": ".py",
   "mimetype": "text/x-python",
   "name": "python",
   "nbconvert_exporter": "python",
   "pygments_lexer": "ipython3",
   "version": "3.10.18"
  }
 },
 "nbformat": 4,
 "nbformat_minor": 5
}
